{
 "cells": [
  {
   "cell_type": "markdown",
   "metadata": {},
   "source": [
    "# Aprendizado de Máquina –Aprendizado Supervisionado: Regressão\n",
    "\n",
    "#### Alunos: Arthur Bizon, Gabriel Schneider e Luciane Tedesco"
   ]
  },
  {
   "cell_type": "markdown",
   "metadata": {},
   "source": [
    "### Fase 1: Análise de Correlação e Regressão Linear\n",
    "\n",
    "Nesta etapa, faremos  a  análise  de correlação, que é utilizada para medir a intensidade de associação de duas variáveis (Relação Linear), e, também  a análise de regressão, que é utilizada para prever valores de uma variável dado os valores de outra."
   ]
  },
  {
   "cell_type": "markdown",
   "metadata": {},
   "source": [
    "### 1.1 Definição das funções de correlação e regressão\n",
    "\n",
    "Nesta etapa será implementa duas funções, chamadas correlacao e regressao. Cada uma terá dois vetores Nx1 como entrada, onde N é a dimensão do vetor(no  caso de  x N=11). A  primeira  função irá calcular o coeficiente de correlação r, e a segunda função irá calcular a regressão, isto é, β0 e β1.\n"
   ]
  },
  {
   "cell_type": "code",
   "execution_count": 1,
   "metadata": {},
   "outputs": [],
   "source": [
    "def correlacao(x1):\n",
    "    pass\n",
    "\n",
    "def regressao(x1):\n",
    "    pass"
   ]
  },
  {
   "cell_type": "markdown",
   "metadata": {},
   "source": [
    "### 1.2 Análise de dados\n",
    "\n",
    "Nesta etapa será analisado três conjuntos de dados, a partir dos seguintes tópicos:\n",
    "\n",
    "- Gráfico de Dispersão\n",
    "- Coeficiente de correlação\n",
    "- Linha da regressão para o Gráfico de Dispersão\n",
    "- Coeficientes de correlação e regressão para o Gráfico de Dispersão "
   ]
  },
  {
   "cell_type": "code",
   "execution_count": null,
   "metadata": {},
   "outputs": [],
   "source": []
  },
  {
   "cell_type": "markdown",
   "metadata": {},
   "source": [
    "#### 1.3 Conclusão\n",
    "\n",
    "Qual dos datasetsnão é apropriado para regressão linear"
   ]
  },
  {
   "cell_type": "code",
   "execution_count": null,
   "metadata": {},
   "outputs": [],
   "source": []
  }
 ],
 "metadata": {
  "kernelspec": {
   "display_name": "Python 3",
   "language": "python",
   "name": "python3"
  },
  "language_info": {
   "codemirror_mode": {
    "name": "ipython",
    "version": 3
   },
   "file_extension": ".py",
   "mimetype": "text/x-python",
   "name": "python",
   "nbconvert_exporter": "python",
   "pygments_lexer": "ipython3",
   "version": "3.7.4"
  }
 },
 "nbformat": 4,
 "nbformat_minor": 2
}
