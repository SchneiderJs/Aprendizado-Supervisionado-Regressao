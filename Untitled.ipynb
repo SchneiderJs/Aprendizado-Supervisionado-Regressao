{
 "cells": [
  {
   "cell_type": "markdown",
   "metadata": {},
   "source": [
    "# Aprendizado de Máquina –Aprendizado Supervisionado: Regressão\n",
    "\n",
    "#### Alunos: Arthur Bizon, Gabriel Schneider e Luciane Tedesco"
   ]
  },
  {
   "cell_type": "markdown",
   "metadata": {},
   "source": [
    "### Fase 1: Análise de Correlação e Regressão Linear\n",
    "\n",
    "Nesta etapa, faremos  a  análise  de correlação, que é utilizada para medir a intensidade de associação de duas variáveis (Relação Linear), e, também  a análise de regressão, que é utilizada para prever valores de uma variável dado os valores de outra."
   ]
  },
  {
   "cell_type": "markdown",
   "metadata": {},
   "source": [
    "#### 1.1 Definindo os conjuntos de dados"
   ]
  },
  {
   "cell_type": "code",
   "execution_count": 26,
   "metadata": {},
   "outputs": [],
   "source": [
    "x1 = [10, 8, 13, 9, 11, 14, 6, 4, 12, 7, 5]\n",
    "y1 =  [8.04, 6.95, 7.58, 8.81, 8.33, 9.96, 7.24, 4.26, 10.84, 4.82, 5.68]\n",
    "\n",
    "x2 = [10,8,13,9,11,14,6,4,12,7,5]\n",
    "y2 = [9.14, 8.14, 8.47, 8.77, 9.26, 8.10, 6.13, 3.10, 9.13, 7.26, 4.74]\n",
    "\n",
    "x3 = [8, 8, 8, 8, 8, 8, 8, 8, 8, 8, 19]\n",
    "y3 = [6.58, 5.76, 7.71, 8.84, 8.47, 7.04, 5.25, 5.56, 7.91, 6.89, 12.50]"
   ]
  },
  {
   "cell_type": "markdown",
   "metadata": {},
   "source": [
    "#### 1.2 Definindo as funções de correlação e regressão\n",
    "\n",
    "Nesta etapa será implementa duas funções, chamadas correlacao e regressao. Cada uma terá dois vetores Nx1 como entrada, onde N é a dimensão do vetor(no  caso de  x N=11). A  primeira  função irá calcular o coeficiente de correlação r, e a segunda função irá calcular a regressão, isto é, β0 e β1.\n"
   ]
  },
  {
   "cell_type": "code",
   "execution_count": 30,
   "metadata": {},
   "outputs": [],
   "source": [
    "import numpy as np\n",
    "from math  import sqrt\n",
    "\n",
    "def correlacao(x, y):\n",
    "    x_hat = np.average(x)\n",
    "    y_hat = np.average(y)\n",
    "    \n",
    "    n = sum((x-x_hat)*(y-y_hat))\n",
    "    d = sqrt(sum((x-x_hat)*(x-x_hat)) * sum((y-y_hat) *(y-y_hat)))\n",
    "    \n",
    "    return n / d\n",
    "\n",
    "\n",
    "def regressao(x, y):\n",
    "    x_hat = np.average(x)\n",
    "    y_hat = np.average(y)\n",
    "    \n",
    "    a = (sum((x-x_hat)*(y-y_hat)))/(sum((x-x_hat)*(x-x_hat)))\n",
    "    b = y_hat - a*x_hat\n",
    "    \n",
    "    return (a, b)"
   ]
  },
  {
   "cell_type": "markdown",
   "metadata": {},
   "source": [
    "#### 1.3 Análise de dados\n",
    "\n",
    "Nesta etapa será analisado três conjuntos de dados, a partir dos seguintes tópicos:\n",
    "\n",
    "- Gráfico de Dispersão\n",
    "- Coeficiente de correlação\n",
    "- Linha da regressão para o Gráfico de Dispersão\n",
    "- Coeficientes de correlação e regressão para o Gráfico de Dispersão "
   ]
  },
  {
   "cell_type": "code",
   "execution_count": 37,
   "metadata": {},
   "outputs": [
    {
     "name": "stdout",
     "output_type": "stream",
     "text": [
      "Correlacao para o dataset 1: 0.81642051634484\n",
      "Correlacao para o dataset 2: 0.8061168716933017\n",
      "Correlacao para o dataset 3: 0.8165214368885029\n",
      "\n",
      "y_hat_1 = 0.5000909090909091x + 3.0000909090909103\n",
      "y_hat_2 = 0.4901818181818182x + 3.0647272727272714\n",
      "y_hat_3 = 0.4999090909090909x + 3.0017272727272726\n"
     ]
    }
   ],
   "source": [
    "regression_function = lambda a, b, i : \"y_hat_\" + str(i) + \" = \" + str(a) + \"x + \" + str(b)\n",
    "\n",
    "correlacao_dt1 = correlacao(x1, y1)\n",
    "correlacao_dt2 = correlacao(x2, y2)\n",
    "correlacao_dt3 = correlacao(x3, y3)\n",
    "\n",
    "a_dt1, b_dt1 = regressao(x1, y1)\n",
    "a_dt2, b_dt2 = regressao(x2, y2)\n",
    "a_dt3, b_dt3 = regressao(x3, y3)\n",
    "\n",
    "print(\"Correlacao para o dataset 1: \" + str(correlacao_dt1))\n",
    "print(\"Correlacao para o dataset 2: \" + str(correlacao_dt2))\n",
    "print(\"Correlacao para o dataset 3: \" + str(correlacao_dt3))\n",
    "print()\n",
    "print(regression_function(a_dt1, b_dt1, 1))\n",
    "print(regression_function(a_dt2, b_dt2, 2))\n",
    "print(regression_function(a_dt3, b_dt3, 3))"
   ]
  },
  {
   "cell_type": "markdown",
   "metadata": {},
   "source": [
    "#### 1.3 Conclusão -  Qual dos datasets não é apropriado para regressão linear?\n"
   ]
  }
 ],
 "metadata": {
  "kernelspec": {
   "display_name": "Python 3",
   "language": "python",
   "name": "python3"
  },
  "language_info": {
   "codemirror_mode": {
    "name": "ipython",
    "version": 3
   },
   "file_extension": ".py",
   "mimetype": "text/x-python",
   "name": "python",
   "nbconvert_exporter": "python",
   "pygments_lexer": "ipython3",
   "version": "3.7.4"
  }
 },
 "nbformat": 4,
 "nbformat_minor": 2
}
