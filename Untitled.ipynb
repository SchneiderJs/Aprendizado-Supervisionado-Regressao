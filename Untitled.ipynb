{
 "cells": [
  {
   "cell_type": "markdown",
   "metadata": {},
   "source": [
    "# Aprendizado de Máquina –Aprendizado Supervisionado: Regressão\n",
    "\n",
    "#### Alunos: Arthur Bizon, Gabriel Schneider e Luciane Tedesco"
   ]
  },
  {
   "cell_type": "markdown",
   "metadata": {},
   "source": [
    "### Fase 1: Análise de Correlação e Regressão Linear\n",
    "\n",
    "Nesta etapa, faremos  a  análise  de correlação, que é utilizada para medir a intensidade de associação de duas variáveis (Relação Linear), e, também  a análise de regressão, que é utilizada para prever valores de uma variável dado os valores de outra."
   ]
  },
  {
   "cell_type": "code",
   "execution_count": null,
   "metadata": {},
   "outputs": [],
   "source": [
    "x1 = [10, 8, 13, 9, 11, 14, 6, 4, 12, 7, 5]\n",
    "y1 =  [8.04, 6.95, 7.58, 8.81, 8.33, 9.96, 7.24, 4.26, 10.84, 4.82, 5.68]\n",
    "\n",
    "x2 = [10,8,13,9,11,14,6,4,12,7,5]\n",
    "y2 = [9.14, 8.14, 8.47, 8.77, 9.26, 8.10, 6.13, 3.10, 9.13, 7.26, 4.74]\n",
    "\n",
    "x3 = [8, 8, 8, 8, 8, 8, 8, 8, 8, 8, 19]\n",
    "y3 = [6.58, 5.76, 7.71, 8.84, 8.47, 7.04, 5.25, 5.56, 7.91, 6.89, 12.50]"
   ]
  },
  {
   "cell_type": "code",
   "execution_count": 2,
   "metadata": {},
   "outputs": [],
   "source": [
    "x = [1, 2, 3, 4, 5, 6, 7, 8, 9]\n",
    "y = [5, 12, 16, 22, 34, 38, 41, 45, 50]"
   ]
  },
  {
   "cell_type": "markdown",
   "metadata": {},
   "source": [
    "### 1.1 Definição das funções de correlação e regressão\n",
    "\n",
    "Nesta etapa será implementa duas funções, chamadas correlacao e regressao. Cada uma terá dois vetores Nx1 como entrada, onde N é a dimensão do vetor(no  caso de  x N=11). A  primeira  função irá calcular o coeficiente de correlação r, e a segunda função irá calcular a regressão, isto é, β0 e β1.\n"
   ]
  },
  {
   "cell_type": "code",
   "execution_count": 6,
   "metadata": {},
   "outputs": [
    {
     "name": "stdout",
     "output_type": "stream",
     "text": [
      "0.9886509726125045\n"
     ]
    }
   ],
   "source": [
    "import numpy as np\n",
    "from math  import sqrt\n",
    "x_hat = np.average(x)\n",
    "y_hat = np.average(y)\n",
    "\n",
    "numerador = sum((x-x_hat)*(y-y_hat))\n",
    "denominador =  sqrt(sum((x-x_hat) * (x-x_hat)) * sum((y-y_hat) *(y-y_hat)))\n",
    "\n",
    "print(numerador / denominador)"
   ]
  },
  {
   "cell_type": "code",
   "execution_count": 7,
   "metadata": {},
   "outputs": [
    {
     "name": "stdout",
     "output_type": "stream",
     "text": [
      "5.75\n"
     ]
    }
   ],
   "source": [
    "a = (sum((x-x_hat)*(y-y_hat)))/(sum((x-x_hat)*(x-x_hat)))\n",
    "print (a)"
   ]
  },
  {
   "cell_type": "code",
   "execution_count": 8,
   "metadata": {},
   "outputs": [
    {
     "name": "stdout",
     "output_type": "stream",
     "text": [
      "0.47222222222222143\n"
     ]
    }
   ],
   "source": [
    "b = y_hat - a*x_hat\n",
    "print(b)"
   ]
  },
  {
   "cell_type": "code",
   "execution_count": 1,
   "metadata": {},
   "outputs": [],
   "source": [
    "def correlacao(x1):\n",
    "    pass\n",
    "\n",
    "def regressao(x1):\n",
    "    pass"
   ]
  },
  {
   "cell_type": "markdown",
   "metadata": {},
   "source": [
    "### 1.2 Análise de dados\n",
    "\n",
    "Nesta etapa será analisado três conjuntos de dados, a partir dos seguintes tópicos:\n",
    "\n",
    "- Gráfico de Dispersão\n",
    "- Coeficiente de correlação\n",
    "- Linha da regressão para o Gráfico de Dispersão\n",
    "- Coeficientes de correlação e regressão para o Gráfico de Dispersão "
   ]
  },
  {
   "cell_type": "code",
   "execution_count": null,
   "metadata": {},
   "outputs": [],
   "source": []
  },
  {
   "cell_type": "markdown",
   "metadata": {},
   "source": [
    "#### 1.3 Conclusão\n",
    "\n",
    "Qual dos datasetsnão é apropriado para regressão linear"
   ]
  },
  {
   "cell_type": "code",
   "execution_count": null,
   "metadata": {},
   "outputs": [],
   "source": []
  }
 ],
 "metadata": {
  "kernelspec": {
   "display_name": "Python 3",
   "language": "python",
   "name": "python3"
  },
  "language_info": {
   "codemirror_mode": {
    "name": "ipython",
    "version": 3
   },
   "file_extension": ".py",
   "mimetype": "text/x-python",
   "name": "python",
   "nbconvert_exporter": "python",
   "pygments_lexer": "ipython3",
   "version": "3.7.3"
  }
 },
 "nbformat": 4,
 "nbformat_minor": 2
}
